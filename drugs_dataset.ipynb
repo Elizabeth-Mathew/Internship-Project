{
 "cells": [
  {
   "cell_type": "code",
   "execution_count": 1,
   "id": "fc3ad859",
   "metadata": {},
   "outputs": [
    {
     "name": "stdout",
     "output_type": "stream",
     "text": [
      "Requirement already satisfied: faker in c:\\users\\elza_\\anaconda3\\lib\\site-packages (13.6.0)\n",
      "Requirement already satisfied: python-dateutil>=2.4 in c:\\users\\elza_\\anaconda3\\lib\\site-packages (from faker) (2.8.2)\n",
      "Requirement already satisfied: six>=1.5 in c:\\users\\elza_\\anaconda3\\lib\\site-packages (from python-dateutil>=2.4->faker) (1.16.0)\n",
      "Note: you may need to restart the kernel to use updated packages.\n"
     ]
    }
   ],
   "source": [
    "pip install faker"
   ]
  },
  {
   "cell_type": "markdown",
   "id": "8027b8e5",
   "metadata": {},
   "source": [
    "# Importing standard libraries"
   ]
  },
  {
   "cell_type": "code",
   "execution_count": 2,
   "id": "3713ff2e",
   "metadata": {},
   "outputs": [],
   "source": [
    "from faker import Faker\n",
    "import numpy as np\n",
    "import pandas as pd\n",
    "from random import choice, sample"
   ]
  },
  {
   "cell_type": "code",
   "execution_count": 3,
   "id": "0e6577c7",
   "metadata": {},
   "outputs": [],
   "source": [
    "df1 = Faker()"
   ]
  },
  {
   "cell_type": "code",
   "execution_count": 4,
   "id": "33eec855",
   "metadata": {},
   "outputs": [],
   "source": [
    "def create_names(n):\n",
    "   name = []\n",
    "   for _ in range(0, n):\n",
    "        name.append(df1.name())\n",
    "   return name"
   ]
  },
  {
   "cell_type": "code",
   "execution_count": 5,
   "id": "05dcff79",
   "metadata": {},
   "outputs": [],
   "source": [
    "name = create_names(362806)"
   ]
  },
  {
   "cell_type": "code",
   "execution_count": 6,
   "id": "1c086844",
   "metadata": {},
   "outputs": [],
   "source": [
    "df_name = pd.DataFrame(list(zip(name)),columns = ['Name'])"
   ]
  },
  {
   "cell_type": "code",
   "execution_count": 7,
   "id": "91d29680",
   "metadata": {},
   "outputs": [
    {
     "data": {
      "text/html": [
       "<div>\n",
       "<style scoped>\n",
       "    .dataframe tbody tr th:only-of-type {\n",
       "        vertical-align: middle;\n",
       "    }\n",
       "\n",
       "    .dataframe tbody tr th {\n",
       "        vertical-align: top;\n",
       "    }\n",
       "\n",
       "    .dataframe thead th {\n",
       "        text-align: right;\n",
       "    }\n",
       "</style>\n",
       "<table border=\"1\" class=\"dataframe\">\n",
       "  <thead>\n",
       "    <tr style=\"text-align: right;\">\n",
       "      <th></th>\n",
       "      <th>Name</th>\n",
       "    </tr>\n",
       "  </thead>\n",
       "  <tbody>\n",
       "    <tr>\n",
       "      <th>0</th>\n",
       "      <td>Andrea Wilson</td>\n",
       "    </tr>\n",
       "    <tr>\n",
       "      <th>1</th>\n",
       "      <td>Lisa Moore</td>\n",
       "    </tr>\n",
       "    <tr>\n",
       "      <th>2</th>\n",
       "      <td>Ann Morgan</td>\n",
       "    </tr>\n",
       "    <tr>\n",
       "      <th>3</th>\n",
       "      <td>Douglas Coleman</td>\n",
       "    </tr>\n",
       "    <tr>\n",
       "      <th>4</th>\n",
       "      <td>Kristine Holland</td>\n",
       "    </tr>\n",
       "  </tbody>\n",
       "</table>\n",
       "</div>"
      ],
      "text/plain": [
       "               Name\n",
       "0     Andrea Wilson\n",
       "1        Lisa Moore\n",
       "2        Ann Morgan\n",
       "3   Douglas Coleman\n",
       "4  Kristine Holland"
      ]
     },
     "execution_count": 7,
     "metadata": {},
     "output_type": "execute_result"
    }
   ],
   "source": [
    "df_name.head()"
   ]
  },
  {
   "cell_type": "code",
   "execution_count": 8,
   "id": "efdbf78b",
   "metadata": {},
   "outputs": [
    {
     "data": {
      "text/plain": [
       "(362806, 1)"
      ]
     },
     "execution_count": 8,
     "metadata": {},
     "output_type": "execute_result"
    }
   ],
   "source": [
    "df_name.shape"
   ]
  },
  {
   "cell_type": "markdown",
   "id": "f886a774",
   "metadata": {},
   "source": [
    "### Creating race column"
   ]
  },
  {
   "cell_type": "code",
   "execution_count": 9,
   "id": "a239f675",
   "metadata": {},
   "outputs": [],
   "source": [
    "def weighted_cartesian_choice(*iterables):\n",
    "    # An arbitrary number of tuple or lists,each consisting of population and weights.weighted_cartesian_choice returns a list \n",
    "    #with a chocie from each population\n",
    "    \n",
    "    res = []\n",
    "    for population, weights in iterables:\n",
    "     #normalize weight:\n",
    "        weights = np.array(weights) / sum(weights)\n",
    "        lst = np.random.choice(population, p=weights)\n",
    "        res.append(lst)\n",
    "    return res\n",
    "race = (['White','Hispanic', 'Black','Asian'], \n",
    "        [.32,.28,.22,.18])\n",
    "\n",
    "list=[]\n",
    "for i in range(362806):\n",
    "    res = weighted_cartesian_choice(race)\n",
    "    list.append(res)"
   ]
  },
  {
   "cell_type": "code",
   "execution_count": 10,
   "id": "b4a3999c",
   "metadata": {},
   "outputs": [],
   "source": [
    "df_race=pd.DataFrame(list, columns = ['Race'])"
   ]
  },
  {
   "cell_type": "code",
   "execution_count": 11,
   "id": "912dca2b",
   "metadata": {},
   "outputs": [
    {
     "data": {
      "text/html": [
       "<div>\n",
       "<style scoped>\n",
       "    .dataframe tbody tr th:only-of-type {\n",
       "        vertical-align: middle;\n",
       "    }\n",
       "\n",
       "    .dataframe tbody tr th {\n",
       "        vertical-align: top;\n",
       "    }\n",
       "\n",
       "    .dataframe thead th {\n",
       "        text-align: right;\n",
       "    }\n",
       "</style>\n",
       "<table border=\"1\" class=\"dataframe\">\n",
       "  <thead>\n",
       "    <tr style=\"text-align: right;\">\n",
       "      <th></th>\n",
       "      <th>Race</th>\n",
       "    </tr>\n",
       "  </thead>\n",
       "  <tbody>\n",
       "    <tr>\n",
       "      <th>0</th>\n",
       "      <td>Asian</td>\n",
       "    </tr>\n",
       "    <tr>\n",
       "      <th>1</th>\n",
       "      <td>White</td>\n",
       "    </tr>\n",
       "    <tr>\n",
       "      <th>2</th>\n",
       "      <td>White</td>\n",
       "    </tr>\n",
       "    <tr>\n",
       "      <th>3</th>\n",
       "      <td>Black</td>\n",
       "    </tr>\n",
       "    <tr>\n",
       "      <th>4</th>\n",
       "      <td>White</td>\n",
       "    </tr>\n",
       "  </tbody>\n",
       "</table>\n",
       "</div>"
      ],
      "text/plain": [
       "    Race\n",
       "0  Asian\n",
       "1  White\n",
       "2  White\n",
       "3  Black\n",
       "4  White"
      ]
     },
     "execution_count": 11,
     "metadata": {},
     "output_type": "execute_result"
    }
   ],
   "source": [
    "df_race.head()"
   ]
  },
  {
   "cell_type": "markdown",
   "id": "4d1b0e00",
   "metadata": {},
   "source": [
    "## Concatenating name and race columns"
   ]
  },
  {
   "cell_type": "code",
   "execution_count": 12,
   "id": "ce25e65e",
   "metadata": {},
   "outputs": [],
   "source": [
    "df_nr = pd.concat([df_name, df_race], axis=1).reindex(df_race.index)"
   ]
  },
  {
   "cell_type": "code",
   "execution_count": 13,
   "id": "c9dece5f",
   "metadata": {},
   "outputs": [],
   "source": [
    "df_drugs = pd.read_csv('webmd.csv')"
   ]
  },
  {
   "cell_type": "markdown",
   "id": "759881a4",
   "metadata": {},
   "source": [
    "### Creating the final dataset"
   ]
  },
  {
   "cell_type": "code",
   "execution_count": 14,
   "id": "5548b49e",
   "metadata": {},
   "outputs": [],
   "source": [
    "data_drugs = pd.concat([df_nr, df_drugs], axis=1).reindex(df_drugs.index)"
   ]
  },
  {
   "cell_type": "code",
   "execution_count": 15,
   "id": "7d72a210",
   "metadata": {},
   "outputs": [
    {
     "data": {
      "text/html": [
       "<div>\n",
       "<style scoped>\n",
       "    .dataframe tbody tr th:only-of-type {\n",
       "        vertical-align: middle;\n",
       "    }\n",
       "\n",
       "    .dataframe tbody tr th {\n",
       "        vertical-align: top;\n",
       "    }\n",
       "\n",
       "    .dataframe thead th {\n",
       "        text-align: right;\n",
       "    }\n",
       "</style>\n",
       "<table border=\"1\" class=\"dataframe\">\n",
       "  <thead>\n",
       "    <tr style=\"text-align: right;\">\n",
       "      <th></th>\n",
       "      <th>Name</th>\n",
       "      <th>Race</th>\n",
       "      <th>Age</th>\n",
       "      <th>Condition</th>\n",
       "      <th>Date</th>\n",
       "      <th>Drug</th>\n",
       "      <th>DrugId</th>\n",
       "      <th>EaseofUse</th>\n",
       "      <th>Effectiveness</th>\n",
       "      <th>Reviews</th>\n",
       "      <th>Satisfaction</th>\n",
       "      <th>Sex</th>\n",
       "      <th>Sides</th>\n",
       "      <th>UsefulCount</th>\n",
       "    </tr>\n",
       "  </thead>\n",
       "  <tbody>\n",
       "    <tr>\n",
       "      <th>0</th>\n",
       "      <td>Andrea Wilson</td>\n",
       "      <td>Asian</td>\n",
       "      <td>75 or over</td>\n",
       "      <td>Stuffy Nose</td>\n",
       "      <td>9/21/2014</td>\n",
       "      <td>25dph-7.5peh</td>\n",
       "      <td>146724</td>\n",
       "      <td>5</td>\n",
       "      <td>5</td>\n",
       "      <td>I'm a retired physician and of all the meds I ...</td>\n",
       "      <td>5</td>\n",
       "      <td>Male</td>\n",
       "      <td>Drowsiness,  dizziness ,  dry mouth /nose/thro...</td>\n",
       "      <td>0</td>\n",
       "    </tr>\n",
       "    <tr>\n",
       "      <th>1</th>\n",
       "      <td>Lisa Moore</td>\n",
       "      <td>White</td>\n",
       "      <td>25-34</td>\n",
       "      <td>Cold Symptoms</td>\n",
       "      <td>1/13/2011</td>\n",
       "      <td>25dph-7.5peh</td>\n",
       "      <td>146724</td>\n",
       "      <td>5</td>\n",
       "      <td>5</td>\n",
       "      <td>cleared me right up even with my throat hurtin...</td>\n",
       "      <td>5</td>\n",
       "      <td>Female</td>\n",
       "      <td>Drowsiness,  dizziness ,  dry mouth /nose/thro...</td>\n",
       "      <td>1</td>\n",
       "    </tr>\n",
       "    <tr>\n",
       "      <th>2</th>\n",
       "      <td>Ann Morgan</td>\n",
       "      <td>White</td>\n",
       "      <td>65-74</td>\n",
       "      <td>Other</td>\n",
       "      <td>7/16/2012</td>\n",
       "      <td>warfarin (bulk) 100 % powder</td>\n",
       "      <td>144731</td>\n",
       "      <td>2</td>\n",
       "      <td>3</td>\n",
       "      <td>why did my PTINR go from a normal of 2.5 to ov...</td>\n",
       "      <td>3</td>\n",
       "      <td>Female</td>\n",
       "      <td></td>\n",
       "      <td>0</td>\n",
       "    </tr>\n",
       "    <tr>\n",
       "      <th>3</th>\n",
       "      <td>Douglas Coleman</td>\n",
       "      <td>Black</td>\n",
       "      <td>75 or over</td>\n",
       "      <td>Other</td>\n",
       "      <td>9/23/2010</td>\n",
       "      <td>warfarin (bulk) 100 % powder</td>\n",
       "      <td>144731</td>\n",
       "      <td>2</td>\n",
       "      <td>2</td>\n",
       "      <td>FALLING AND DON'T REALISE IT</td>\n",
       "      <td>1</td>\n",
       "      <td>Female</td>\n",
       "      <td></td>\n",
       "      <td>0</td>\n",
       "    </tr>\n",
       "    <tr>\n",
       "      <th>4</th>\n",
       "      <td>Kristine Holland</td>\n",
       "      <td>White</td>\n",
       "      <td>35-44</td>\n",
       "      <td>Other</td>\n",
       "      <td>1/6/2009</td>\n",
       "      <td>warfarin (bulk) 100 % powder</td>\n",
       "      <td>144731</td>\n",
       "      <td>1</td>\n",
       "      <td>1</td>\n",
       "      <td>My grandfather was prescribed this medication ...</td>\n",
       "      <td>1</td>\n",
       "      <td>Male</td>\n",
       "      <td></td>\n",
       "      <td>1</td>\n",
       "    </tr>\n",
       "  </tbody>\n",
       "</table>\n",
       "</div>"
      ],
      "text/plain": [
       "               Name   Race         Age      Condition       Date  \\\n",
       "0     Andrea Wilson  Asian  75 or over    Stuffy Nose  9/21/2014   \n",
       "1        Lisa Moore  White       25-34  Cold Symptoms  1/13/2011   \n",
       "2        Ann Morgan  White       65-74          Other  7/16/2012   \n",
       "3   Douglas Coleman  Black  75 or over          Other  9/23/2010   \n",
       "4  Kristine Holland  White       35-44          Other   1/6/2009   \n",
       "\n",
       "                           Drug  DrugId  EaseofUse  Effectiveness  \\\n",
       "0                  25dph-7.5peh  146724          5              5   \n",
       "1                  25dph-7.5peh  146724          5              5   \n",
       "2  warfarin (bulk) 100 % powder  144731          2              3   \n",
       "3  warfarin (bulk) 100 % powder  144731          2              2   \n",
       "4  warfarin (bulk) 100 % powder  144731          1              1   \n",
       "\n",
       "                                             Reviews  Satisfaction     Sex  \\\n",
       "0  I'm a retired physician and of all the meds I ...             5    Male   \n",
       "1  cleared me right up even with my throat hurtin...             5  Female   \n",
       "2  why did my PTINR go from a normal of 2.5 to ov...             3  Female   \n",
       "3                       FALLING AND DON'T REALISE IT             1  Female   \n",
       "4  My grandfather was prescribed this medication ...             1    Male   \n",
       "\n",
       "                                               Sides  UsefulCount  \n",
       "0  Drowsiness,  dizziness ,  dry mouth /nose/thro...            0  \n",
       "1  Drowsiness,  dizziness ,  dry mouth /nose/thro...            1  \n",
       "2                                                               0  \n",
       "3                                                               0  \n",
       "4                                                               1  "
      ]
     },
     "execution_count": 15,
     "metadata": {},
     "output_type": "execute_result"
    }
   ],
   "source": [
    "data_drugs.head()"
   ]
  },
  {
   "cell_type": "markdown",
   "id": "e6864947",
   "metadata": {},
   "source": [
    "### Converting the dataframe to csv file"
   ]
  },
  {
   "cell_type": "code",
   "execution_count": 16,
   "id": "58a95e81",
   "metadata": {},
   "outputs": [],
   "source": [
    "data_drugs = data_drugs.to_csv('drugs_dataset.csv', index=False)"
   ]
  },
  {
   "cell_type": "code",
   "execution_count": null,
   "id": "daf720f7",
   "metadata": {},
   "outputs": [],
   "source": []
  }
 ],
 "metadata": {
  "kernelspec": {
   "display_name": "Python 3 (ipykernel)",
   "language": "python",
   "name": "python3"
  },
  "language_info": {
   "codemirror_mode": {
    "name": "ipython",
    "version": 3
   },
   "file_extension": ".py",
   "mimetype": "text/x-python",
   "name": "python",
   "nbconvert_exporter": "python",
   "pygments_lexer": "ipython3",
   "version": "3.9.7"
  }
 },
 "nbformat": 4,
 "nbformat_minor": 5
}
